{
 "cells": [
  {
   "cell_type": "code",
   "execution_count": 1,
   "metadata": {},
   "outputs": [],
   "source": [
    "\n",
    "# Load the TensorBoard notebook extension\n",
    "%load_ext tensorboard"
   ]
  },
  {
   "cell_type": "code",
   "execution_count": 7,
   "metadata": {},
   "outputs": [
    {
     "data": {
      "text/plain": [
       "Reusing TensorBoard on port 6009 (pid 110126), started 4:20:27 ago. (Use '!kill 110126' to kill it.)"
      ]
     },
     "metadata": {},
     "output_type": "display_data"
    },
    {
     "data": {
      "text/html": [
       "\n",
       "      <iframe id=\"tensorboard-frame-6df57fbe5534e89f\" width=\"100%\" height=\"800\" frameborder=\"0\">\n",
       "      </iframe>\n",
       "      <script>\n",
       "        (function() {\n",
       "          const frame = document.getElementById(\"tensorboard-frame-6df57fbe5534e89f\");\n",
       "          const url = new URL(\"/\", window.location);\n",
       "          url.port = 6009;\n",
       "          frame.src = url;\n",
       "        })();\n",
       "      </script>\n",
       "  "
      ],
      "text/plain": [
       "<IPython.core.display.HTML object>"
      ]
     },
     "metadata": {},
     "output_type": "display_data"
    }
   ],
   "source": [
    "%tensorboard --logdir logs/"
   ]
  },
  {
   "cell_type": "code",
   "execution_count": 3,
   "metadata": {},
   "outputs": [
    {
     "name": "stdout",
     "output_type": "stream",
     "text": [
      "ABCabc.png\t\t   iam_word_Flor_htr.tflite  target\r\n",
      "b.bash\t\t\t   iam_word_Flor.tflite      tensorboard.ipynb\r\n",
      "datasetGenerator.ipynb\t   _ipynb_checkpoints\t     test0.png\r\n",
      "dataset_generator.py\t   log\t\t\t     test1.png\r\n",
      "diagnose_tensorboard.py    logs\t\t\t     test2.png\r\n",
      "diagnose_tensorboard.py.1  main_exp.py\t\t     test3.png\r\n",
      "Generated_dataset\t   main.py\t\t     TFlite\r\n",
      "hello.png\t\t   Models\t\t     What.png\r\n",
      "HTR-experiment.ipynb\t   Output_log\t\t     Word\r\n",
      "HTR.ipynb\t\t   parameter.txt\r\n",
      "HTR-paral.ipynb\t\t   saved_model\r\n"
     ]
    }
   ],
   "source": [
    "!p"
   ]
  },
  {
   "cell_type": "code",
   "execution_count": null,
   "metadata": {},
   "outputs": [],
   "source": []
  }
 ],
 "metadata": {
  "kernelspec": {
   "display_name": "Python 3",
   "language": "python",
   "name": "python3"
  },
  "language_info": {
   "codemirror_mode": {
    "name": "ipython",
    "version": 3
   },
   "file_extension": ".py",
   "mimetype": "text/x-python",
   "name": "python",
   "nbconvert_exporter": "python",
   "pygments_lexer": "ipython3",
   "version": "3.7.5"
  }
 },
 "nbformat": 4,
 "nbformat_minor": 2
}
